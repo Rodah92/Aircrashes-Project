{
 "cells": [
  {
   "cell_type": "code",
   "execution_count": 227,
   "id": "9a0af681-8973-4f08-9d32-a13dfc72f874",
   "metadata": {},
   "outputs": [],
   "source": [
    "import pandas as pd\n",
    "import numpy as np\n",
    "import matplotlib.pyplot as plt\n",
    "import seaborn as sns"
   ]
  },
  {
   "cell_type": "code",
   "execution_count": 228,
   "id": "ee67c74d",
   "metadata": {},
   "outputs": [],
   "source": [
    "def load_data():\n",
    "    data_file = 'aircrahesFullDataUpdated_2024.csv'\n",
    "    df = pd.read_csv(data_file)\n",
    "    return df"
   ]
  },
  {
   "cell_type": "code",
   "execution_count": 229,
   "id": "a1f60d95-41c5-43f9-b25c-7a0140790adb",
   "metadata": {},
   "outputs": [],
   "source": [
    "df = load_data()"
   ]
  },
  {
   "cell_type": "code",
   "execution_count": 230,
   "id": "df0e327f-79b4-4166-bd8c-e31f6c409f8a",
   "metadata": {},
   "outputs": [
    {
     "data": {
      "text/html": [
       "<div>\n",
       "<style scoped>\n",
       "    .dataframe tbody tr th:only-of-type {\n",
       "        vertical-align: middle;\n",
       "    }\n",
       "\n",
       "    .dataframe tbody tr th {\n",
       "        vertical-align: top;\n",
       "    }\n",
       "\n",
       "    .dataframe thead th {\n",
       "        text-align: right;\n",
       "    }\n",
       "</style>\n",
       "<table border=\"1\" class=\"dataframe\">\n",
       "  <thead>\n",
       "    <tr style=\"text-align: right;\">\n",
       "      <th></th>\n",
       "      <th>Year</th>\n",
       "      <th>Quarter</th>\n",
       "      <th>Month</th>\n",
       "      <th>Day</th>\n",
       "      <th>Country/Region</th>\n",
       "      <th>Aircraft Manufacturer</th>\n",
       "      <th>Aircraft</th>\n",
       "      <th>Location</th>\n",
       "      <th>Operator</th>\n",
       "      <th>Ground</th>\n",
       "      <th>Fatalities (air)</th>\n",
       "      <th>Aboard</th>\n",
       "    </tr>\n",
       "  </thead>\n",
       "  <tbody>\n",
       "    <tr>\n",
       "      <th>0</th>\n",
       "      <td>1970</td>\n",
       "      <td>Qtr 2</td>\n",
       "      <td>April</td>\n",
       "      <td>28</td>\n",
       "      <td>NaN</td>\n",
       "      <td>de Havilland Canada</td>\n",
       "      <td>de Havilland Canada DHC 6 Twin Otter 100VH</td>\n",
       "      <td>Kainatu</td>\n",
       "      <td>Airlines Australia GuineaTrans New</td>\n",
       "      <td>0</td>\n",
       "      <td>8</td>\n",
       "      <td>11</td>\n",
       "    </tr>\n",
       "    <tr>\n",
       "      <th>1</th>\n",
       "      <td>1952</td>\n",
       "      <td>Qtr 2</td>\n",
       "      <td>April</td>\n",
       "      <td>30</td>\n",
       "      <td>NaN</td>\n",
       "      <td>Douglas</td>\n",
       "      <td>Douglas DC 3VT</td>\n",
       "      <td>Delhi</td>\n",
       "      <td>Airways IndiaDeccan</td>\n",
       "      <td>0</td>\n",
       "      <td>9</td>\n",
       "      <td>9</td>\n",
       "    </tr>\n",
       "    <tr>\n",
       "      <th>2</th>\n",
       "      <td>1973</td>\n",
       "      <td>Qtr 2</td>\n",
       "      <td>April</td>\n",
       "      <td>10</td>\n",
       "      <td>NaN</td>\n",
       "      <td>Vickers Vanguard</td>\n",
       "      <td>Vickers Vanguard 952G AXOP</td>\n",
       "      <td>Near Basel</td>\n",
       "      <td>(UK) Airlines International SwitzerlandInvicta</td>\n",
       "      <td>0</td>\n",
       "      <td>108</td>\n",
       "      <td>145</td>\n",
       "    </tr>\n",
       "    <tr>\n",
       "      <th>3</th>\n",
       "      <td>2000</td>\n",
       "      <td>Qtr 2</td>\n",
       "      <td>April</td>\n",
       "      <td>19</td>\n",
       "      <td>'-</td>\n",
       "      <td>Antonov</td>\n",
       "      <td>Antonov AN 8TL</td>\n",
       "      <td>Pepa  -</td>\n",
       "      <td>Airlines Centrafricain</td>\n",
       "      <td>0</td>\n",
       "      <td>24</td>\n",
       "      <td>24</td>\n",
       "    </tr>\n",
       "    <tr>\n",
       "      <th>4</th>\n",
       "      <td>1946</td>\n",
       "      <td>Qtr 2</td>\n",
       "      <td>April</td>\n",
       "      <td>30</td>\n",
       "      <td>'-</td>\n",
       "      <td>Douglas</td>\n",
       "      <td>Douglas C 47A FZ559</td>\n",
       "      <td>Pindi-Khut  -</td>\n",
       "      <td>Force Air Royal</td>\n",
       "      <td>0</td>\n",
       "      <td>12</td>\n",
       "      <td>12</td>\n",
       "    </tr>\n",
       "  </tbody>\n",
       "</table>\n",
       "</div>"
      ],
      "text/plain": [
       "   Year Quarter  Month  Day Country/Region Aircraft Manufacturer  \\\n",
       "0  1970   Qtr 2  April   28            NaN   de Havilland Canada   \n",
       "1  1952   Qtr 2  April   30            NaN               Douglas   \n",
       "2  1973   Qtr 2  April   10            NaN      Vickers Vanguard   \n",
       "3  2000   Qtr 2  April   19             '-               Antonov   \n",
       "4  1946   Qtr 2  April   30             '-               Douglas   \n",
       "\n",
       "                                     Aircraft       Location  \\\n",
       "0  de Havilland Canada DHC 6 Twin Otter 100VH        Kainatu   \n",
       "1                              Douglas DC 3VT          Delhi   \n",
       "2                  Vickers Vanguard 952G AXOP     Near Basel   \n",
       "3                              Antonov AN 8TL        Pepa  -   \n",
       "4                         Douglas C 47A FZ559  Pindi-Khut  -   \n",
       "\n",
       "                                         Operator  Ground  Fatalities (air)  \\\n",
       "0              Airlines Australia GuineaTrans New       0                 8   \n",
       "1                             Airways IndiaDeccan       0                 9   \n",
       "2  (UK) Airlines International SwitzerlandInvicta       0               108   \n",
       "3                          Airlines Centrafricain       0                24   \n",
       "4                                 Force Air Royal       0                12   \n",
       "\n",
       "   Aboard  \n",
       "0      11  \n",
       "1       9  \n",
       "2     145  \n",
       "3      24  \n",
       "4      12  "
      ]
     },
     "execution_count": 230,
     "metadata": {},
     "output_type": "execute_result"
    }
   ],
   "source": [
    "df.head(5)"
   ]
  },
  {
   "cell_type": "markdown",
   "id": "e0e3f801-1316-4488-b33b-48fdc6fdadb8",
   "metadata": {},
   "source": [
    "# Understanding the dataset\n",
    "This process helps me understand the dataset so as to know how to approach the cleaning and analysis."
   ]
  },
  {
   "cell_type": "code",
   "execution_count": 231,
   "id": "5ee0de43-a702-4625-b5ce-92c6403c0918",
   "metadata": {},
   "outputs": [
    {
     "name": "stdout",
     "output_type": "stream",
     "text": [
      "Rows: 5035\n",
      "Columns: 12\n"
     ]
    }
   ],
   "source": [
    "# Display the number of rows and columns in the dataset\n",
    "df.shape\n",
    "print(f\"Rows: {df.shape[0]}\")\n",
    "print(f\"Columns: {df.shape[1]}\")"
   ]
  },
  {
   "cell_type": "code",
   "execution_count": 232,
   "id": "f87b2bf1-5c48-4521-942d-fb00d6e735da",
   "metadata": {},
   "outputs": [
    {
     "name": "stdout",
     "output_type": "stream",
     "text": [
      "<class 'pandas.core.frame.DataFrame'>\n",
      "RangeIndex: 5035 entries, 0 to 5034\n",
      "Data columns (total 12 columns):\n",
      " #   Column                 Non-Null Count  Dtype \n",
      "---  ------                 --------------  ----- \n",
      " 0   Year                   5035 non-null   int64 \n",
      " 1   Quarter                5035 non-null   object\n",
      " 2   Month                  5035 non-null   object\n",
      " 3   Day                    5035 non-null   int64 \n",
      " 4   Country/Region         4805 non-null   object\n",
      " 5   Aircraft Manufacturer  5035 non-null   object\n",
      " 6   Aircraft               5035 non-null   object\n",
      " 7   Location               5035 non-null   object\n",
      " 8   Operator               4801 non-null   object\n",
      " 9   Ground                 5035 non-null   int64 \n",
      " 10  Fatalities (air)       5035 non-null   int64 \n",
      " 11  Aboard                 5035 non-null   int64 \n",
      "dtypes: int64(5), object(7)\n",
      "memory usage: 472.2+ KB\n"
     ]
    }
   ],
   "source": [
    "df.info()"
   ]
  },
  {
   "cell_type": "code",
   "execution_count": 233,
   "id": "e798b501-5b33-40e4-b920-d3221f0132b0",
   "metadata": {},
   "outputs": [
    {
     "data": {
      "text/plain": [
       "Index(['Year', 'Quarter', 'Month', 'Day', 'Country/Region',\n",
       "       'Aircraft Manufacturer', 'Aircraft', 'Location', 'Operator', 'Ground',\n",
       "       'Fatalities (air)', 'Aboard'],\n",
       "      dtype='object')"
      ]
     },
     "execution_count": 233,
     "metadata": {},
     "output_type": "execute_result"
    }
   ],
   "source": [
    "# list the columns in the dataset\n",
    "df.columns"
   ]
  },
  {
   "cell_type": "code",
   "execution_count": 234,
   "id": "67036faa-1694-49bf-9233-41ed82dfa092",
   "metadata": {},
   "outputs": [
    {
     "data": {
      "text/plain": [
       "230"
      ]
     },
     "execution_count": 234,
     "metadata": {},
     "output_type": "execute_result"
    }
   ],
   "source": [
    "# check the total number of null values in the Country/Region column\n",
    "df['Country/Region'].isna().sum()"
   ]
  },
  {
   "cell_type": "code",
   "execution_count": 235,
   "id": "921b2f28-d43c-4255-8688-ebd458422000",
   "metadata": {},
   "outputs": [
    {
     "data": {
      "text/plain": [
       "234"
      ]
     },
     "execution_count": 235,
     "metadata": {},
     "output_type": "execute_result"
    }
   ],
   "source": [
    "# check the total number of null values in the Operators column\n",
    "df['Operator'].isna().sum()"
   ]
  },
  {
   "cell_type": "markdown",
   "id": "fd4da522-b460-47bc-a364-ee99affaa5b0",
   "metadata": {},
   "source": [
    "### Checking the unique values in each relevant column"
   ]
  },
  {
   "cell_type": "code",
   "execution_count": 236,
   "id": "d850ca38-68d7-403f-be89-2e7d92e1dd39",
   "metadata": {},
   "outputs": [
    {
     "data": {
      "text/plain": [
       "array(['Kainatu', 'Delhi', 'Near Basel', ...,\n",
       "       'Near the Kwango River Zaire', 'Kindu Zaire', 'Ndola Zambia'],\n",
       "      dtype=object)"
      ]
     },
     "execution_count": 236,
     "metadata": {},
     "output_type": "execute_result"
    }
   ],
   "source": [
    "df['Location'].unique()"
   ]
  },
  {
   "cell_type": "code",
   "execution_count": 237,
   "id": "6cb883de-e87c-4ecc-8a0e-44d76a4b89d1",
   "metadata": {},
   "outputs": [
    {
     "data": {
      "text/plain": [
       "array(['de Havilland Canada', 'Douglas', 'Vickers Vanguard', 'Antonov',\n",
       "       'Boeing', 'Airbus', 'Aero Commander', 'Britten', 'Cessna',\n",
       "       'Cessna 208B Caravan', 'Hughes', 'McDonnell Douglas', 'Pilgrim',\n",
       "       'Ilyushin', 'Cessna  208B Grand', 'Hawker Siddeley', 'HS', 'Avro',\n",
       "       'Lockheed 14', 'Swearingen SA227AC Metroliner', 'Yakovlev',\n",
       "       'Curtiss', 'Mil', 'Convair', 'Consolidated', 'Doublas',\n",
       "       'Embraer 110EJ Band./Embraer 110P', 'Learjet', 'NAMC',\n",
       "       'Embraer/Piper', 'Lockheed 18', 'Cams', 'Ford', 'Grumman',\n",
       "       'Lockheed', 'De Havilland', 'Mi', 'Pilatus', 'Sikorsky', '??',\n",
       "       'Aérospatiale', 'Bell 212FAC',\n",
       "       'Hadley Page 137Jetstream I / Cessna 206N11360 /', 'Canadair',\n",
       "       'Bristol Britannia', 'Fokker', 'Junkers', 'Sud Aviation',\n",
       "       'Vickers Viscount', 'Avro 685 York', 'Avro Shackleton',\n",
       "       'Vickers 610 Viking', 'BAC Super', 'Aerocomp Comp Air',\n",
       "       'Fairchild', 'Farman', 'Dornier', 'de Havilland  Canada',\n",
       "       'Aviation Traders', 'Embraer', 'Focke', 'Fokker FG',\n",
       "       'Messerschmitt', 'Vickers Viking 1B & Soviet',\n",
       "       'Hawker Siddeley Trident', 'Pilatus Britten Norman', 'Beechcraft',\n",
       "       'C', 'Swallow\\r\\nSwallow?', 'Stearman', 'British Aerospace',\n",
       "       'Britten Norman', 'Mitsubishi', 'Lockheed Super', 'B17G Flying',\n",
       "       'de Havilland DH106 Comet', 'OFM', 'Kawasaki', 'Martin',\n",
       "       'Shin Meiwa', 'Vickers Valetta', 'Harbin Yunshuji',\n",
       "       'Vickers Wellington', 'British Aerospace BAe',\n",
       "       'Aerospatiale Caravelle', 'Caudron C.635', 'Bell 205', 'Lisnov',\n",
       "       'Lockheed Hudson', 'Zeppelin', 'Saab', 'Bell', 'Goodyear', 'Short',\n",
       "       'Stinson Model', 'Lockheed 14 Super', 'Swearingen',\n",
       "       'de Hvilland 89A Dragon', 'Eurocopter EC225LP Super Puma M2+',\n",
       "       'Lockheed 188C', 'Embraer 110P1',\n",
       "       'Piper Aerostar 601 / Bell 412SPN3645D /', 'Let', 'Lockheed 749A',\n",
       "       'Vickers 757', 'ATR', 'Lisunov', 'Tupolev', 'Dassault Falcon',\n",
       "       'Sud Aviation Caravelle', 'Eurocopter AS 332L2 Super Puma',\n",
       "       'Boeing Vertol CH47C', 'Breguet', 'Rohrbach',\n",
       "       'Swearingen SA.227AC Metro', 'General Aviation',\n",
       "       'Handley Page Dart Herald', 'Avro 688 Super', 'Let 410UVP',\n",
       "       'Boeing 377 Stratocruiser', 'Lockheed Martin',\n",
       "       'Lockheed 1049H Super', 'Cessna 208 Grand', 'Reims Aviation',\n",
       "       'Liore et Olivier', 'Avro 691 Lancastrian',\n",
       "       'Aerospatiale AS350 Eurocopter', 'Piper', 'Howard', '?VH',\n",
       "       'de Havilland DH.80 Puss', 'Vickers 804', 'Embraer 120ER',\n",
       "       'Latecoere', 'Sikorsky S43 (flying',\n",
       "       'Supermarine Stranraer (flying', 'Beechcraft C99 / Rockwell',\n",
       "       'Bell 206B', 'MD Douglas', 'CASA', 'Gates Learjet', 'Lockheed 10',\n",
       "       'Bristol 170 Freighter', 'Savoia', 'Armstrong',\n",
       "       'Royal Airship Works', 'Wibault', 'Let 410UVP Turbojet / Tupolev',\n",
       "       'Shorts', 'Vickers 634 Viking', 'Catalina Flying', 'Norman',\n",
       "       'Hindustan Aeronautics 748', 'Pacific', 'HESA', 'UH', 'Caproni',\n",
       "       'Handley Page', 'Macchi', 'Unknown /', 'Bleriot',\n",
       "       'Consolidated Canso', 'Latecoere 631 (flying', 'Eurocopter',\n",
       "       'Lockheed 10B', 'Stinson', 'Aerospatiale', 'Avro Lancaster',\n",
       "       'Lockheed 10 Electra', 'Lockheed 9', 'Siebel',\n",
       "       'Lockheed Orion 9E Explorer float', 'BAC', 'Lockheed 5',\n",
       "       'Piper Navajo', 'Arava', 'Short Sandringham (flying',\n",
       "       'Vickers Viking', 'Cessna  501', 'North American',\n",
       "       'Avro 691 Lancastrian (flying', 'Vickers 815',\n",
       "       'Short Sandringham 5 (flying', 'Lockheed 188A', 'PA',\n",
       "       'Blériot Spad', 'AeroflotL5057', 'Kalinin', 'Lockheed 1049G Super',\n",
       "       'Boeing Vertol CH47B', 'Chance Vought', 'DC', 'Sud', 'Yunshuji',\n",
       "       'Bell Huey', 'Farman F.60', 'LET 410M', 'Cessna 208B Grand',\n",
       "       'Lockheed 10E', 'Embraer 110', 'Sud Aviation SE 210 Caravelle',\n",
       "       'Boeing Vertol', 'Bristol 170', 'Fairchild C119G / Fairchild',\n",
       "       'Waco, model', 'Latécoère 23 (flying', 'Curtiss C',\n",
       "       'Eurocopter Deutschland', 'Nord', 'Bristol 28',\n",
       "       'Short S23 ‘C’ Class flying', 'Martin PBM', 'Avro  685 York',\n",
       "       'Vickers Viscount 827 / Fokker', 'Loening', 'Curtis',\n",
       "       'Vickers Viscount 764', 'VC', 'Bristol 175 Britannia', '?NC21V',\n",
       "       'Grumman G73T Turbo', 'Caudron', 'Embraer 120', 'Potez',\n",
       "       'Vickers 708', 'Latécoère 300 (float', 'Mil Mi 8T', 'Arado',\n",
       "       'Beech', 'Cessna 208B Caravan I Super', 'Lockheed Vega', 'HAL',\n",
       "       'Hindustan Aeronautics', 'CASA 212 Aviocar', 'IPTN 332C Super',\n",
       "       'M28', 'SNCASE', 'Lockheed 049', 'Cessna 421 Golden',\n",
       "       'Short Empire flying', 'Vickers 785D', 'SNIAS',\n",
       "       'British Aerospace Jetstream', 'Avro 683', 'Cessna 207 / Cessna',\n",
       "       'Five Grumman TBM', 'UC', 'Zeppelin Dixmunde', 'Curtiss Wright',\n",
       "       'MD', 'McDonnell', 'Fairchild Pilgrim', 'KB', 'Nakajima', 'Ryan',\n",
       "       'GAF Nomad', 'Heinkel', 'Rockwell International', 'Ilyushin 14M',\n",
       "       'Li', 'Tupolev A.N.T.', 'Cessna 404', 'ATR42', 'DHC',\n",
       "       'Mc Donnell Douglas', 'Aérospatiale/Aeritalia', 'Lockheed Orion',\n",
       "       'Travel Air', 'Channel Air', 'de Havilland Comet', 'LET 410',\n",
       "       'PZL', 'British Aerospace 3101 Jetstream', 'Beech Queen Air',\n",
       "       'Twin', 'de Havilland DH.104 Dove', 'ConvairCV', 'Eurocopter EC',\n",
       "       'Beechcraft Super King Air', 'Bandeirante', 'Embraer 110C',\n",
       "       'Embraer 110P', 'Fokker 27 Friendship', 'deHavilland', 'Boeing 40',\n",
       "       'Consolidated  32 Liberator', 'Cessna 208A Caravan I',\n",
       "       'Cessna 560 Citation', 'Pitcairn', 'Transall',\n",
       "       'Vickers 628 Viking', 'Nord 2501', 'Vickers 813', 'Fairchild?',\n",
       "       'Lioré', 'Vickers 952F', 'Airspeed Ambassador', 'IAI 1124',\n",
       "       'Casa 212', 'Beechcraft Bonanza', 'Vickers 614 Viking',\n",
       "       'Fokker Universal', 'Mc Donnell Dougals',\n",
       "       'Swearingen SA.227AT Merlin', 'Latécoère', 'Cant', 'Dormier',\n",
       "       'Latecoere 301 (flying', 'Sikorsky CH53D / Sikorsky CH53D357 /',\n",
       "       'PAC', 'Bombardier', 'Desoutter', 'Embraer 110P2',\n",
       "       'Lockheed  188A', 'Curtiss Carrier', 'MH', 'Junkers 52/3m',\n",
       "       'de Havilland DHC', 'Eurocopter  AS332L2 Super', 'V6', 'Avia',\n",
       "       'Swearingen SA.226TC Metro', 'Grummand',\n",
       "       'Vickers Viscount 754D / Douglas', 'Beechcraft B200 Super King',\n",
       "       'Dirigible Roma', 'Helicopter?', 'BAe', 'Lear Jet', 'Sabca',\n",
       "       'Vickers 615 Viking', 'Breguet 14', 'Lockheed L 1049G Super',\n",
       "       'de Hav Can.', 'F', 'Shaanxi Yunshuji', 'Black Hawk',\n",
       "       'Hawker Siddeley HS', 'Beech King Air 200', 'Swearingen SA.227AC',\n",
       "       'Martin 202A /', 'DC3(C47)FAC', 'Vickers', 'Dewoitine',\n",
       "       'SNCASE SE.2010', 'CMASA', 'Lockheed P2V', 'Lockheed 1329 Jetstar',\n",
       "       'CH53E Sea', 'Lockheed Hercules', 'Savoia Marchetti',\n",
       "       'Vickers Valetta Mk1 / Avero LancasterVX562 /', 'AirbusA310',\n",
       "       'Lockheed 1049E Super', 'Embraer 120RT', 'Lockheed 14H Super',\n",
       "       'Britten Norman BN', 'Cessna 441', 'Avro 688 Tudor', 'Bell 206',\n",
       "       'Curtiss Condor', 'Embraer 110P1A', 'Stinson Reliant', 'Wapiti?',\n",
       "       'Fokker 28 Fellowship', 'GAF N22B', 'Military', 'Vickers 802',\n",
       "       'de Havilland Dove', 'Boeing B52 Stratofortress/Boeing KC',\n",
       "       'Casa 352', 'Shaanxi', 'Short Sunderland 9 (flying', 'Vultee',\n",
       "       'BAE Avro', 'LET  410M', 'Tupolev TU', 'Ilyushin76TD4K',\n",
       "       'Helicopter, Hughes', 'Rockwell Sabreliner',\n",
       "       'Short Sandringham 2 (flying', 'Lasco', 'Fiat', 'Boeing 377',\n",
       "       'Schutte', 'Spartan', 'Airspeed AS.57 Ambassador',\n",
       "       'Handley Page Hastings C Mark', 'Vickers 74',\n",
       "       'Aerospatiale BAe Concorde', 'Beechcraft 1900D / Cessna', 'LVG C',\n",
       "       'Consolidated Catalina', 'Hawker', 'Volpar', 'FD Type',\n",
       "       'Beechcraft B300 King', 'Lockheed 1049C Super', 'Avro 685', 'Saro',\n",
       "       'EC', 'British Aerospace  BAe Jetstream', 'Vickers 798D',\n",
       "       'General', 'CMASA Wal (flying', 'Consolidated Liberator B24',\n",
       "       'Fairchild packet (C119 flying', 'Fokker (KLM)', 'Dirigible?',\n",
       "       'R4D', 'Mitsubishi MU 2B', 'Beech King Air', 'Sikorsky  S 76',\n",
       "       'Sikorsky S', 'Antonov An', 'Ilushin', 'Iluyshin', 'Junkers JU86',\n",
       "       'Vickers 837', 'Caravelle', 'Kubicek BB85Z Hot Air', 'Sukhoi',\n",
       "       'EMB 721C', 'Fairchild Hiller', 'Bell 407 / Bell 407N407GA /',\n",
       "       'de Havilland Can.', 'Domier Delphin III (flying', 'Avro 691',\n",
       "       'Embraer 820C', 'Lockheed 10C', 'Beechcraft A100 King', 'KJ',\n",
       "       'PBY', 'Xian Yunshuji', 'Airspeed', 'Zepplin', 'AEGKD', 'VEB',\n",
       "       'Bleriot Spad', 'Lockheed 1649A', 'Sikorsly',\n",
       "       'de Havilland DH.89 Dragon', 'Sirkorsky', 'MI 172 V5',\n",
       "       'Swearingen 226TC Metro', 'Aerospeciale', 'B', 'Noorduyn',\n",
       "       'BAC One Eleven', 'L', 'Boeing Vertol Chinook', 'Socata',\n",
       "       'Piaggio', 'Ilysushin', 'Cessna 404 Titan Courier', 'Koolhoven',\n",
       "       'Pitcairns', 'Cessna 550 Citation', 'Both Eurocopter', 'Airship?',\n",
       "       'Armstrong Whitworth Argosy', 'Rockwell 500S Shrike',\n",
       "       'Aerospatiale Nord', 'Avro 689 Tudor', 'Sepecat Jaguar', '?139',\n",
       "       'Grummand Gulfstream', 'Dassault', 'Vickers 604 Viking',\n",
       "       'IAI Attava', 'de Havilland Dragon', 'Blackburn Beverley C Mark',\n",
       "       'Boeing 737 Max', 'Latecoere 631 (sea', 'Rochrbach',\n",
       "       'Aerospatiale AS350BA', 'MiG', 'Savoia Marchetti SM', 'H',\n",
       "       'Fokker F10A', 'Mc Donnell Douglas 369FF',\n",
       "       'Aeromarine Model 85 (flying', 'IAI Arava', 'Eurocopter AS',\n",
       "       'Northrop Alpha', 'Fairchild R4Q / Dougas', 'AT L98',\n",
       "       'IAI 1124A Westwind', 'Tuolev', 'Avro York',\n",
       "       'Handley Page Jetstream', 'Saab340BB', 'Vickers 616 Viking',\n",
       "       'Aerospatiale Caravelle Super', 'British Aerospace 748',\n",
       "       'Cessna 500 Citation', 'Boeing 307', 'Urocopter AS350', 'Antonv',\n",
       "       'SPCA Meteore', 'Eurocopter AS350D', 'Swearingen SA227AC Metro',\n",
       "       'Illyushin', 'Dassault Breguet', 'Bristol 170 Freighter 31 Mark',\n",
       "       'Grumman Gulfstream', 'McDonnel', 'Embraer 110 P1', 'Liore',\n",
       "       'PBY4', 'Vickers 639 Viking', 'Stinson SM6000B',\n",
       "       'Aerospatiale 330G', 'Sukhoi Superjet', 'Xian', 'CH',\n",
       "       'Vickers Viscount 745D /', 'Rockwell Gulfstream Jetprop 840',\n",
       "       'Ford model', 'Handley Page Hastings', 'Westland Sea King',\n",
       "       'Beechcraft B300 King Air', 'CF', 'Swear.', 'BAe Jetstream',\n",
       "       'Boeing CH47A', 'Boeing Vertol CH47A', 'Handley Page Halifax',\n",
       "       'Cessna 404 Titan', 'Lockheed L188A', 'Vickers 620 Viking',\n",
       "       'Travel Air 6000', 'Robertson R44', 'Saab Scandia / Cessna',\n",
       "       'Douglas DC', 'Stinson?', 'Short Solent 3 (flying', 'AAC',\n",
       "       'Cessna 421C Golden', 'Lockheed 749', 'Super Zeppelin', 'Tempest?',\n",
       "       'Aerospatiale 330J', 'Vickers 828', 'Aerospatiale Alenia',\n",
       "       'Bell 412', 'Burgess', 'Aerospatiale AS 332L1 Super',\n",
       "       'Eurocopter EC135', 'Short Sunderland', 'Budd', 'IAI 1124A',\n",
       "       'Northrop', '?42', 'Hamilton', 'Fokker F27 Friendship',\n",
       "       'Lockhed 10', 'Grazhdansky Vozdushnyi Flot',\n",
       "       'Aerospatiale AS 350B2', 'BAe 3101 Jetstream',\n",
       "       'Swearingen SA227AT Merlin', '?VP', 'Boeing 314A', 'Cessna 208',\n",
       "       'Short S.23 Empire Flying', 'Vickers 720', 'Beechcraft 100 King',\n",
       "       'Vickers 610', 'Salmson', 'Short Stirling', 'Dornier DO.18 (float',\n",
       "       'Savbia', 'A', 'Short Calcutta (flying', 'Bell 204B',\n",
       "       'Canadair CRJ200LR', 'BAC One', 'Boeing  377',\n",
       "       'de havilland 89 Dragon', 'Rutan Long EZ (experimental',\n",
       "       'Agusta A109A MK', 'Boeing Vetrol 107 II', 'Enstrom',\n",
       "       'Lockheed 10A', 'Sirkorsky 44A (flying', 'Blackburn',\n",
       "       'Shorts SC.7 Skyvan', 'Short Sandringham 6 (flying', 'Cessna 402C',\n",
       "       'Faucett', 'Sikorksky', 'de Havilland DH114 Heron', 'GVF',\n",
       "       'Ilyushin IL', 'Bell 214ST', 'Aero Commander AC',\n",
       "       'Cessna 208 Caravan', 'Fairey Firefly', 'LET 410MT', 'Bell 214',\n",
       "       'Boeing 307 Stratoliner', 'Beech 200 Super King',\n",
       "       'British Aerospace Nimrod', 'de Havilland Canada DHC 3T Turbine',\n",
       "       'Soloy', 'Beechcraft SKA', 'de havilland Canada Twin Otter',\n",
       "       'Saab Scandia', 'Cessna 501', 'Hawker Siddeley Trident 2E /',\n",
       "       'Lockheed  5', 'Fokker UniversalNC52', 'Transportes Aéreos',\n",
       "       'Vickers 634', 'Vickers 621 Viking', 'Bloch', 'Spad', 'Wright',\n",
       "       'Cessna 441 Conquest', 'Fokker Super', 'CRDA CANT', 'Let Aero',\n",
       "       'Rockwell', 'Boulton and Paul', 'Fletcher', 'Cessna 402 / Piper',\n",
       "       'Dirigible', 'Stinson SM', 'AeroflotCCCP',\n",
       "       'de Havilland 89A Dragon', 'Avro Ninteen', 'Antonov An26SH76',\n",
       "       'Wright Flyer'], dtype=object)"
      ]
     },
     "execution_count": 237,
     "metadata": {},
     "output_type": "execute_result"
    }
   ],
   "source": [
    "df['Aircraft Manufacturer'].unique()"
   ]
  },
  {
   "cell_type": "code",
   "execution_count": 238,
   "id": "d9a215f0-e968-4454-a499-4613a86fbcef",
   "metadata": {},
   "outputs": [
    {
     "data": {
      "text/plain": [
       "array([nan, \"'-\", ' Alaska', '10', 'Afghanistan', 'Aichi', 'Alaska',\n",
       "       'Algeria', 'Angola', 'Argentina', 'Australia', 'Azerbaijan',\n",
       "       'Bahamas', 'Bali', 'Belgian', 'Black', 'Bolivia', 'Botswana',\n",
       "       'Brazil', 'Brazil\\tAmazonaves', 'British', 'Calabria',\n",
       "       'California', 'Cameroon', 'Cameroons', 'Canada', 'Canary',\n",
       "       'Channel', 'Chechnya', 'Chile', 'China', 'China?', 'Colombia',\n",
       "       'Colorado', 'Congo', 'Croatia', 'Cyprus', 'Democratic', 'East',\n",
       "       'Ecuador', 'England', 'Equatorial', 'Estonia', 'Ethiopia',\n",
       "       'Finland', 'Florida', 'France', 'French', 'Gambia', 'Georgia',\n",
       "       'Germany', 'Ghana', 'Greece', 'Greenland', 'Guangxi', 'Guatemala',\n",
       "       'Guyana', 'Hawaii', 'Honduras', 'Hong', 'Idaho', 'India',\n",
       "       'India\\tPawan', 'Indiana', 'Indonesia', 'Iowa', 'Iran', 'Iraq',\n",
       "       'Ireland', 'Isle', 'Italy', 'Jamaica', 'Japan', 'Jordan', 'Kansas',\n",
       "       'Kenya', 'Laos', 'Libya', 'London', 'Madagascar', 'Malta',\n",
       "       'Mexico', 'Michigan', 'Moldova', 'Mongolia', 'Morocco', 'near',\n",
       "       'Netherlands', 'Nevada', 'New', 'Newfoundland', 'Nicaragua',\n",
       "       'Niger', 'Nigeria', 'North', 'Northern', 'Norway', 'Norway\\tCHC',\n",
       "       'NYUS', 'Ohio', 'Oklahoma', 'ON', 'Pakistan', 'Panama', 'Papua',\n",
       "       'Pennsylvania', 'Peru', 'Philippines', 'Poland', 'Puerto',\n",
       "       'Quebec', 'Russia', 'Rwanda', 'Sarawak', 'Saudi', 'Scotland',\n",
       "       'Senegal', 'SK', 'Somalia', 'South', 'South-West', 'Spain', 'Sri',\n",
       "       'Sudan', 'Suriname', 'Switzerland', 'Syria', 'Taiwan', 'Tennesee',\n",
       "       'Tennessee', 'Texas', 'Thailand', 'Trinidad', 'Turkey', 'Ukraine',\n",
       "       'USSRAeroflot', 'Venezuela', 'Vietnam', 'Virgin', 'Washington',\n",
       "       'West', 'Wyoming', 'Yugoslavia', 'Zaire', '100', 'Alabama',\n",
       "       'Alaksa', 'Arizona', 'Arkansas', 'Australila', 'Azores', 'Bahrain',\n",
       "       'Bangladesh', 'BC', 'Belgium', 'Bias', 'Brazil\\tLoide', 'Bulgaria',\n",
       "       'Burma', 'Cape', 'Connecticut', 'Cook', 'Costa', 'Cuba',\n",
       "       'Czechoslovakia', 'Denmark', 'Egypt', 'Guam', 'Guantanamo',\n",
       "       'Haiti', 'Hungary', 'Iceland', 'Illinois', 'Kazakastan', 'Kent',\n",
       "       'Kentucky', 'Kyrgyzstan', 'Lebanon', 'Leeward', 'Louisiana',\n",
       "       'Maine', 'Malaysia', 'Manitoba', 'Martinique', 'Maryland',\n",
       "       'Massachusetts', 'Mauretania', 'Miao-li', 'miles', 'Minnesota',\n",
       "       'Mississippi', 'Missouri', 'Montana', 'Myanmar', 'Nebraska',\n",
       "       'Nepal', 'Nunavut', 'Oman', 'Oregon', 'Paraguay', 'Persian', 'PQ',\n",
       "       'Romania', 'San', 'Spain\\r\\n\\t\\r\\nMoron', 'Sweden', 'Tajikistan',\n",
       "       'Tanzania', 'Terceira', 'United', 'Upper', 'Utah', 'Uzbekistan',\n",
       "       'Västergötland', 'Vera', 'Vermont', 'Virginia', 'Wisconsin',\n",
       "       'Yemen', 'Yugosalvia', 'Airlines', 'Algarve', 'Armenia',\n",
       "       'Atlantic', 'Austria', 'Ayrshire', 'Beni', 'Benin', 'Bermuda',\n",
       "       'Brunei', 'Bugaria', 'Chicago', 'Coloado', 'Comoros', 'Condor',\n",
       "       'Corsica', 'Curacao', 'D.C.Capital', 'Da', 'Fiji', 'Florida?',\n",
       "       'Huanuco', 'Jiangsu', 'Kazakhstan', 'Kodiak', 'Kuwait', 'Labrador',\n",
       "       'Latvia', 'Mariana', 'Mauritania', 'Northwest', 'NWT', 'off',\n",
       "       'Okinawa', 'Ontario', 'Portugal', 'Qatar', 'Saskatchewan',\n",
       "       'Sicily', 'Slovakia', 'Surrey', 'The', 'Uzbekstan', 'Valle', 'WA',\n",
       "       'WYUS', 'Zimbabwe', 'Alberta', 'Argentinade', 'Belarus',\n",
       "       'Bosnia-Herzegovina', 'Brisbane', 'Buea', 'Californiia',\n",
       "       'Columbia', 'Crete', 'Delaware', 'Djbouti', 'Domincan',\n",
       "       'Dominican', 'El', 'Hati', 'HIPan', 'Indonesia\\r\\n\\t\\r\\nSarmi',\n",
       "       'Lancs', 'Liberia', 'Los', 'Mali', 'Margarita', 'Minnisota',\n",
       "       'Mozambique', 'NSW', 'Pacific', 'PE', 'Queensland', 'Rhode',\n",
       "       'Rhodesia', 'Rio', 'Trento', 'Tunisia', 'UARMisrair', 'Uruguay',\n",
       "       'Victoria', 'Vizcaya', 'Wantagh', 'Warks', 'Wisconson', 'Zambia',\n",
       "       ' Japan', ' NWT Canada', ' Somalia', 'Air', 'American', 'Ariège',\n",
       "       'Barbados', 'Besar', 'Boliva', 'Boliviano', 'California?',\n",
       "       'Comoro', 'Covington', 'Cundinamarca', 'Czech', 'D.C.Air', 'Dutch',\n",
       "       'Gabon', 'Horley', 'Hunary', 'Ilinois', 'Inodnesia', 'Ivory',\n",
       "       'Jamacia', 'Lochgoilhead', 'Lombok', 'Macedonia', 'Maharashtra',\n",
       "       'Marine', 'Minnesota46826/109', 'NE', 'Norrbotten', 'Qld', 'Samoa',\n",
       "       'Sardinia', 'Siberia', 'Sichuan', 'Suiyang', 'Sumatra', 'Timor',\n",
       "       'U.S.', 'Uganda', 'Veracruz', 'Western', 'Yukon', '325', 'Alakska',\n",
       "       'Azuay', 'Baangladesh', 'Boston', 'Bulgeria', 'Cargo', 'Central',\n",
       "       'Eritrea', 'Germany?', 'Gerona', 'Gilbert', 'Guinea', 'Gujarat',\n",
       "       'HIAir', 'Indian', 'Irian', 'Jersey', 'Lorraine', 'Malagasy',\n",
       "       'Manmar', 'Middlesex', 'Mississipi', 'Norfork', 'Orly', 'Para',\n",
       "       'Shetlands', 'Sulu', 'Tahiti', 'UKBritish', 'Vanuatu', '110',\n",
       "       '116', '18', '570', 'Amsterdam', 'Bavaria', 'Cambodia', 'Chad',\n",
       "       'Cheshire', 'Covington/Hebron', 'England?', 'Great', 'Guadaloupe',\n",
       "       'Gulf', 'Islay', 'Khmer', 'Lombardia', 'Manatoba', 'Mount',\n",
       "       'Namibia', 'Napal', 'Nuevo', 'OLD', 'QC', 'Qld.', 'Ryukyu',\n",
       "       'Saudia', 'Sierra', 'Slovenia', 'Surinam', 'Tokyo', 'Val-de-Marne',\n",
       "       'Albania', 'Azerbaijan\\r\\n\\t\\r\\nBakou', 'CADuncan', 'Cailifornia',\n",
       "       'Calilfornia', 'Cardiff', 'Cocos', 'Guadeloupe', 'Kauai',\n",
       "       'Massachutes', 'Mexic', 'Mt.', 'N', 'Newfoundlandu.s.', 'Nova',\n",
       "       'Philippine', 'Providencia', 'Republic', 'Reunion', 'Sierre',\n",
       "       'Singapore', 'Soviet', 'St.', 'Tanganyika', 'Tasmania',\n",
       "       'Turkmenistan', 'USSRBalkan', 'Volcano', 'Zulia', ' Myanmar',\n",
       "       'Airzona', 'Aregntina', 'Brazil\\r\\nFlorianopolis', 'Catalina',\n",
       "       'Chile\\tAerolineas', 'Djibouti', 'Dorset', 'FL', 'Guanacaste',\n",
       "       'Hants', 'Honduras?', 'Madrid', 'Miami', 'Moldavia', 'Philipines',\n",
       "       'Picrdie', 'Prov.', 'Queens', 'US', 'Aaland', 'Afghanstan',\n",
       "       'Bhutan', 'CAMilitary', 'de', 'Glens', 'Guernsey', 'Huila',\n",
       "       'Inner', 'Island', 'Jeddah', 'Kosovo', 'Lesotho', 'Luxembourg',\n",
       "       'Malawi', 'Malinau', 'Molokai', 'Nambia', 'Ross', 'Saint',\n",
       "       'Sussex', 'USSRMilitary', 'Washingon', 'Yunan', '800', 'DR',\n",
       "       'Ellesmere', 'Granada', 'Italyde', 'Jawa', 'Kirghizia', 'Loire',\n",
       "       'Malaya', 'Placentia', 'Solomon', 'Tajikistan\\tMilitary',\n",
       "       'USSRAerflot', 'Aargau', 'Africa', 'AKAlaska', 'Argyll', 'Biafra',\n",
       "       'Buckinghamshire', 'Deleware', 'Democtratic',\n",
       "       'Djibouti\\r\\n\\tDjibouti', 'Faeroe', 'France?', 'Hrvatska',\n",
       "       'Marshall', 'Micronesia', 'Montserrat', 'Morroco', 'Oltenia',\n",
       "       'Phillipines', 'Russian', 'Sao', 'SC', 'Stirlingshire', 'Tusayan',\n",
       "       'UAEGulf', 'Virginia.American', 'Zabul'], dtype=object)"
      ]
     },
     "execution_count": 238,
     "metadata": {},
     "output_type": "execute_result"
    }
   ],
   "source": [
    "df['Country/Region'].unique()"
   ]
  },
  {
   "cell_type": "code",
   "execution_count": 239,
   "id": "04a2788e-ae46-4093-a2a0-9561a5338936",
   "metadata": {},
   "outputs": [
    {
     "data": {
      "text/plain": [
       "array(['de Havilland Canada DHC 6 Twin Otter 100VH', 'Douglas DC 3VT',\n",
       "       'Vickers Vanguard 952G AXOP', ...,\n",
       "       'Handley Page Dart Herald 2029Q CAH', 'Lockheed Hercules C 1309T',\n",
       "       'Douglas DC 6BSE'], dtype=object)"
      ]
     },
     "execution_count": 239,
     "metadata": {},
     "output_type": "execute_result"
    }
   ],
   "source": [
    "df['Aircraft'].unique()"
   ]
  },
  {
   "cell_type": "markdown",
   "id": "8c621399-6f15-4828-875c-db72b3862908",
   "metadata": {},
   "source": [
    "### Rename the columns in the dataset"
   ]
  },
  {
   "cell_type": "code",
   "execution_count": 240,
   "id": "2219e553-7173-47d7-9d5e-8a28a781e64f",
   "metadata": {},
   "outputs": [
    {
     "data": {
      "text/plain": [
       "Index(['Year', 'Quarter', 'Month', 'Day', 'Country/Region',\n",
       "       'Aircraft Manufacturer', 'Aircraft', 'Location', 'Operator', 'Ground',\n",
       "       'Fatalities (air)', 'Aboard'],\n",
       "      dtype='object')"
      ]
     },
     "execution_count": 240,
     "metadata": {},
     "output_type": "execute_result"
    }
   ],
   "source": [
    "df.columns"
   ]
  },
  {
   "cell_type": "code",
   "execution_count": 241,
   "id": "e704b86a-3e66-477c-9448-af64d3742b36",
   "metadata": {},
   "outputs": [],
   "source": [
    "# rename all columns in the dataset\n",
    "df = df.rename({'Year': 'year', \n",
    "                'Quarter': 'quarter', \n",
    "                'Month': 'month', \n",
    "                'Day': 'day', \n",
    "                'Country/Region': 'country/region',\n",
    "                'Aircraft Manufacturer':'aircraft manufacturer', \n",
    "                'Aircraft': 'aircraft', \n",
    "                'Location': 'location', \n",
    "                'Operator': 'operator', \n",
    "                'Ground': 'ground',\n",
    "                'Fatalities (air)' :'fatalities (air)', \n",
    "                'Aboard' : 'aboard'},axis=1\n",
    "              )"
   ]
  },
  {
   "cell_type": "code",
   "execution_count": 242,
   "id": "e9f4fdf8-8a8d-4d87-ad18-98b4a6c96d25",
   "metadata": {},
   "outputs": [
    {
     "data": {
      "text/plain": [
       "Index(['year', 'quarter', 'month', 'day', 'country/region',\n",
       "       'aircraft manufacturer', 'aircraft', 'location', 'operator', 'ground',\n",
       "       'fatalities (air)', 'aboard'],\n",
       "      dtype='object')"
      ]
     },
     "execution_count": 242,
     "metadata": {},
     "output_type": "execute_result"
    }
   ],
   "source": [
    "df.columns"
   ]
  },
  {
   "cell_type": "markdown",
   "id": "d37addf2-5d1d-4744-b6a1-18dadcc04f5d",
   "metadata": {},
   "source": [
    "## Cleaning of the data"
   ]
  },
  {
   "cell_type": "code",
   "execution_count": 243,
   "id": "748aa968-e272-4ed2-b260-10b952586439",
   "metadata": {},
   "outputs": [
    {
     "data": {
      "text/html": [
       "<div>\n",
       "<style scoped>\n",
       "    .dataframe tbody tr th:only-of-type {\n",
       "        vertical-align: middle;\n",
       "    }\n",
       "\n",
       "    .dataframe tbody tr th {\n",
       "        vertical-align: top;\n",
       "    }\n",
       "\n",
       "    .dataframe thead th {\n",
       "        text-align: right;\n",
       "    }\n",
       "</style>\n",
       "<table border=\"1\" class=\"dataframe\">\n",
       "  <thead>\n",
       "    <tr style=\"text-align: right;\">\n",
       "      <th></th>\n",
       "      <th>year</th>\n",
       "      <th>quarter</th>\n",
       "      <th>month</th>\n",
       "      <th>day</th>\n",
       "      <th>country/region</th>\n",
       "      <th>aircraft manufacturer</th>\n",
       "      <th>aircraft</th>\n",
       "      <th>location</th>\n",
       "      <th>operator</th>\n",
       "      <th>ground</th>\n",
       "      <th>fatalities (air)</th>\n",
       "      <th>aboard</th>\n",
       "    </tr>\n",
       "  </thead>\n",
       "  <tbody>\n",
       "    <tr>\n",
       "      <th>0</th>\n",
       "      <td>1970</td>\n",
       "      <td>Qtr 2</td>\n",
       "      <td>April</td>\n",
       "      <td>28</td>\n",
       "      <td>NaN</td>\n",
       "      <td>de Havilland Canada</td>\n",
       "      <td>de Havilland Canada DHC 6 Twin Otter 100VH</td>\n",
       "      <td>Kainatu</td>\n",
       "      <td>Airlines Australia GuineaTrans New</td>\n",
       "      <td>0</td>\n",
       "      <td>8</td>\n",
       "      <td>11</td>\n",
       "    </tr>\n",
       "    <tr>\n",
       "      <th>1</th>\n",
       "      <td>1952</td>\n",
       "      <td>Qtr 2</td>\n",
       "      <td>April</td>\n",
       "      <td>30</td>\n",
       "      <td>NaN</td>\n",
       "      <td>Douglas</td>\n",
       "      <td>Douglas DC 3VT</td>\n",
       "      <td>Delhi</td>\n",
       "      <td>Airways IndiaDeccan</td>\n",
       "      <td>0</td>\n",
       "      <td>9</td>\n",
       "      <td>9</td>\n",
       "    </tr>\n",
       "    <tr>\n",
       "      <th>2</th>\n",
       "      <td>1973</td>\n",
       "      <td>Qtr 2</td>\n",
       "      <td>April</td>\n",
       "      <td>10</td>\n",
       "      <td>NaN</td>\n",
       "      <td>Vickers Vanguard</td>\n",
       "      <td>Vickers Vanguard 952G AXOP</td>\n",
       "      <td>Near Basel</td>\n",
       "      <td>(UK) Airlines International SwitzerlandInvicta</td>\n",
       "      <td>0</td>\n",
       "      <td>108</td>\n",
       "      <td>145</td>\n",
       "    </tr>\n",
       "    <tr>\n",
       "      <th>3</th>\n",
       "      <td>2000</td>\n",
       "      <td>Qtr 2</td>\n",
       "      <td>April</td>\n",
       "      <td>19</td>\n",
       "      <td>'-</td>\n",
       "      <td>Antonov</td>\n",
       "      <td>Antonov AN 8TL</td>\n",
       "      <td>Pepa  -</td>\n",
       "      <td>Airlines Centrafricain</td>\n",
       "      <td>0</td>\n",
       "      <td>24</td>\n",
       "      <td>24</td>\n",
       "    </tr>\n",
       "    <tr>\n",
       "      <th>4</th>\n",
       "      <td>1946</td>\n",
       "      <td>Qtr 2</td>\n",
       "      <td>April</td>\n",
       "      <td>30</td>\n",
       "      <td>'-</td>\n",
       "      <td>Douglas</td>\n",
       "      <td>Douglas C 47A FZ559</td>\n",
       "      <td>Pindi-Khut  -</td>\n",
       "      <td>Force Air Royal</td>\n",
       "      <td>0</td>\n",
       "      <td>12</td>\n",
       "      <td>12</td>\n",
       "    </tr>\n",
       "  </tbody>\n",
       "</table>\n",
       "</div>"
      ],
      "text/plain": [
       "   year quarter  month  day country/region aircraft manufacturer  \\\n",
       "0  1970   Qtr 2  April   28            NaN   de Havilland Canada   \n",
       "1  1952   Qtr 2  April   30            NaN               Douglas   \n",
       "2  1973   Qtr 2  April   10            NaN      Vickers Vanguard   \n",
       "3  2000   Qtr 2  April   19             '-               Antonov   \n",
       "4  1946   Qtr 2  April   30             '-               Douglas   \n",
       "\n",
       "                                     aircraft       location  \\\n",
       "0  de Havilland Canada DHC 6 Twin Otter 100VH        Kainatu   \n",
       "1                              Douglas DC 3VT          Delhi   \n",
       "2                  Vickers Vanguard 952G AXOP     Near Basel   \n",
       "3                              Antonov AN 8TL        Pepa  -   \n",
       "4                         Douglas C 47A FZ559  Pindi-Khut  -   \n",
       "\n",
       "                                         operator  ground  fatalities (air)  \\\n",
       "0              Airlines Australia GuineaTrans New       0                 8   \n",
       "1                             Airways IndiaDeccan       0                 9   \n",
       "2  (UK) Airlines International SwitzerlandInvicta       0               108   \n",
       "3                          Airlines Centrafricain       0                24   \n",
       "4                                 Force Air Royal       0                12   \n",
       "\n",
       "   aboard  \n",
       "0      11  \n",
       "1       9  \n",
       "2     145  \n",
       "3      24  \n",
       "4      12  "
      ]
     },
     "execution_count": 243,
     "metadata": {},
     "output_type": "execute_result"
    }
   ],
   "source": [
    "df.head(5)"
   ]
  },
  {
   "cell_type": "markdown",
   "id": "f9abc5ef-19e4-44b8-a32d-9a04d56a2896",
   "metadata": {},
   "source": [
    "### 1. Cleaning the country/region column"
   ]
  },
  {
   "cell_type": "code",
   "execution_count": 244,
   "id": "ee5cf63e-58ab-4faa-82d4-31029c8802dc",
   "metadata": {},
   "outputs": [],
   "source": [
    "# Replace all characters with values and empty string \n",
    "df['country/region'] = df['country/region'].str.replace('N/A', 'Other Location').str.replace('?', '').str.replace(\"'-\",'Other Location')"
   ]
  },
  {
   "cell_type": "code",
   "execution_count": 245,
   "id": "ea2d7749-66f4-4957-9a49-0da9e45da27b",
   "metadata": {},
   "outputs": [],
   "source": [
    "# Replace NaN with Other Location\n",
    "df['country/region'] = df['country/region'].fillna('Other Location', inplace=False)"
   ]
  },
  {
   "cell_type": "code",
   "execution_count": 246,
   "id": "f1787f6e-0fd1-4eca-9881-8aa37b4c4209",
   "metadata": {},
   "outputs": [
    {
     "data": {
      "text/plain": [
       "0    Other Location\n",
       "1    Other Location\n",
       "2    Other Location\n",
       "3    Other Location\n",
       "4    Other Location\n",
       "5    Other Location\n",
       "6            Alaska\n",
       "7                10\n",
       "8       Afghanistan\n",
       "9       Afghanistan\n",
       "Name: country/region, dtype: object"
      ]
     },
     "execution_count": 246,
     "metadata": {},
     "output_type": "execute_result"
    }
   ],
   "source": [
    "df['country/region'].head(10)"
   ]
  },
  {
   "cell_type": "markdown",
   "id": "ae433220-deea-4381-a1f3-699666bf9af9",
   "metadata": {},
   "source": [
    "### 2. Cleaning the aircraft manufacturer column"
   ]
  },
  {
   "cell_type": "code",
   "execution_count": 247,
   "id": "641c5394-5236-475a-bbc1-09509b0d44aa",
   "metadata": {},
   "outputs": [],
   "source": [
    "# Replaces all characters with values and empty string as applicable\n",
    "df['aircraft manufacturer'] = df['aircraft manufacturer'].str.replace('N/A', 'Other manufacturer').str.replace('?', '').str.replace('+', '')"
   ]
  },
  {
   "cell_type": "code",
   "execution_count": 248,
   "id": "2185fd2a-bbc4-4e27-a370-8a3249e611cd",
   "metadata": {},
   "outputs": [],
   "source": [
    "# Replace NaN with Other manufacturer\n",
    "df['aircraft manufacturer'] = df['aircraft manufacturer'].fillna('Other manufacturer', inplace=False)"
   ]
  },
  {
   "cell_type": "code",
   "execution_count": 249,
   "id": "5167a38d-0f62-49c6-81fc-89ffa1d90117",
   "metadata": {},
   "outputs": [
    {
     "data": {
      "text/plain": [
       "0    de Havilland Canada\n",
       "1                Douglas\n",
       "2       Vickers Vanguard\n",
       "3                Antonov\n",
       "4                Douglas\n",
       "5                Douglas\n",
       "6                Douglas\n",
       "7                Douglas\n",
       "8                Antonov\n",
       "9                Antonov\n",
       "Name: aircraft manufacturer, dtype: object"
      ]
     },
     "execution_count": 249,
     "metadata": {},
     "output_type": "execute_result"
    }
   ],
   "source": [
    "df['aircraft manufacturer'].head(10)"
   ]
  },
  {
   "cell_type": "markdown",
   "id": "0dd01d90-c803-4717-b5d0-bdb0d9537587",
   "metadata": {},
   "source": [
    "### 3. Cleaning the aircraft column"
   ]
  },
  {
   "cell_type": "code",
   "execution_count": 250,
   "id": "a7834e26-5b31-4291-87e6-b747c6b441ed",
   "metadata": {},
   "outputs": [],
   "source": [
    "# Replace N/A with Other Aircraft\n",
    "# Replace question mark with an empty string\n",
    "df['aircraft'] = df['aircraft'].str.replace('N/A', 'Other Aircraft').str.replace('?', '')"
   ]
  },
  {
   "cell_type": "code",
   "execution_count": 251,
   "id": "906ae9ad-336e-4058-b1f9-e3dcf61210bc",
   "metadata": {},
   "outputs": [],
   "source": [
    "# Replace NaN with Other Aircraft\n",
    "df['aircraft'] = df['aircraft'].fillna('Other Aircraft', inplace=False)"
   ]
  },
  {
   "cell_type": "code",
   "execution_count": 252,
   "id": "5ff1b6f3-93de-4cf4-9918-943b17a6175e",
   "metadata": {},
   "outputs": [
    {
     "data": {
      "text/plain": [
       "0    de Havilland Canada DHC 6 Twin Otter 100VH\n",
       "1                                Douglas DC 3VT\n",
       "2                    Vickers Vanguard 952G AXOP\n",
       "3                                Antonov AN 8TL\n",
       "4                           Douglas C 47A FZ559\n",
       "5                                  Douglas DC 4\n",
       "6                Douglas C-54D Skymaster N3054V\n",
       "7                              Douglas DC 7 / F\n",
       "8                                 Antonov AN 26\n",
       "9                                 Antonov AN 26\n",
       "Name: aircraft, dtype: object"
      ]
     },
     "execution_count": 252,
     "metadata": {},
     "output_type": "execute_result"
    }
   ],
   "source": [
    "df['aircraft'].head(10)"
   ]
  },
  {
   "cell_type": "markdown",
   "id": "72b739b2-c914-4849-923b-6100f78f9db6",
   "metadata": {},
   "source": [
    "### 4. Cleaning the location column"
   ]
  },
  {
   "cell_type": "code",
   "execution_count": 253,
   "id": "c11d59b9-caee-428c-8d99-42ae1b32e403",
   "metadata": {},
   "outputs": [],
   "source": [
    "# Replace question mark with an empty string\n",
    "df['location'] = df['location'].str.replace('?', '')"
   ]
  },
  {
   "cell_type": "code",
   "execution_count": 254,
   "id": "ed5fbfe6-98dd-47d6-bb65-4e55bbed842c",
   "metadata": {},
   "outputs": [],
   "source": [
    "# Replace NaN with Others\n",
    "df['location'] = df['location'].fillna('Others', inplace=False)"
   ]
  },
  {
   "cell_type": "code",
   "execution_count": 255,
   "id": "7a2524de-e2a1-4c23-a3a0-d166948b44b8",
   "metadata": {},
   "outputs": [
    {
     "data": {
      "text/plain": [
       "0                            Kainatu\n",
       "1                              Delhi\n",
       "2                         Near Basel\n",
       "3                            Pepa  -\n",
       "4                      Pindi-Khut  -\n",
       "5                           Taipei -\n",
       "6                     Near Fairbanks\n",
       "7                      Near Sloan 10\n",
       "8            Near Konduz Afghanistan\n",
       "9    Near Mazâr-e Charif Afghanistan\n",
       "Name: location, dtype: object"
      ]
     },
     "execution_count": 255,
     "metadata": {},
     "output_type": "execute_result"
    }
   ],
   "source": [
    "df['location'].head(10)"
   ]
  },
  {
   "cell_type": "markdown",
   "id": "77706462-00c9-40d5-9cf1-9f7e01f032fb",
   "metadata": {},
   "source": [
    "### 5. Cleaning the operator column"
   ]
  },
  {
   "cell_type": "code",
   "execution_count": 256,
   "id": "e9c44318-2183-4820-aaf7-824a261b30dc",
   "metadata": {},
   "outputs": [],
   "source": [
    "# Replace question mark with an empty string\n",
    "# Replace N/A with 'Other operator'\n",
    "# Trim white spaces\n",
    "df['operator'] = df['operator'].str.replace('?', '').str.replace('N/A', 'Other operator').str.strip()"
   ]
  },
  {
   "cell_type": "code",
   "execution_count": 257,
   "id": "47af907c-3c3d-42f7-a249-762bae74cb6d",
   "metadata": {},
   "outputs": [],
   "source": [
    "# Replace NaN with Other operator\n",
    "df['operator'] = df['operator'].fillna('Other operator', inplace=False)"
   ]
  },
  {
   "cell_type": "code",
   "execution_count": 258,
   "id": "ae8d76eb-03e6-402e-b47e-048633c6b133",
   "metadata": {},
   "outputs": [
    {
     "data": {
      "text/plain": [
       "0                   Airlines Australia GuineaTrans New\n",
       "1                                  Airways IndiaDeccan\n",
       "2       (UK) Airlines International SwitzerlandInvicta\n",
       "3                               Airlines Centrafricain\n",
       "4                                      Force Air Royal\n",
       "5                                 Force Air Thai Royal\n",
       "6                                      Alaska Air Fuel\n",
       "7    Nevada      Vegas Las of SW miles United Air L...\n",
       "8               Force Air Republican Afghan - Military\n",
       "9               Force Air Republican Afghan - Military\n",
       "Name: operator, dtype: object"
      ]
     },
     "execution_count": 258,
     "metadata": {},
     "output_type": "execute_result"
    }
   ],
   "source": [
    "df['operator'].head(10)"
   ]
  },
  {
   "cell_type": "code",
   "execution_count": 259,
   "id": "1b810d00-531d-4563-817f-e57ef26da901",
   "metadata": {},
   "outputs": [
    {
     "name": "stdout",
     "output_type": "stream",
     "text": [
      "<class 'pandas.core.frame.DataFrame'>\n",
      "RangeIndex: 5035 entries, 0 to 5034\n",
      "Data columns (total 12 columns):\n",
      " #   Column                 Non-Null Count  Dtype \n",
      "---  ------                 --------------  ----- \n",
      " 0   year                   5035 non-null   int64 \n",
      " 1   quarter                5035 non-null   object\n",
      " 2   month                  5035 non-null   object\n",
      " 3   day                    5035 non-null   int64 \n",
      " 4   country/region         5035 non-null   object\n",
      " 5   aircraft manufacturer  5035 non-null   object\n",
      " 6   aircraft               5035 non-null   object\n",
      " 7   location               5035 non-null   object\n",
      " 8   operator               5035 non-null   object\n",
      " 9   ground                 5035 non-null   int64 \n",
      " 10  fatalities (air)       5035 non-null   int64 \n",
      " 11  aboard                 5035 non-null   int64 \n",
      "dtypes: int64(5), object(7)\n",
      "memory usage: 472.2+ KB\n"
     ]
    }
   ],
   "source": [
    "df.info() # This shows that all issues in the dataset have been attended to"
   ]
  },
  {
   "cell_type": "code",
   "execution_count": 260,
   "id": "69f014f5-034e-49dc-b47b-be257e58a83b",
   "metadata": {},
   "outputs": [
    {
     "data": {
      "text/plain": [
       "year                     0\n",
       "quarter                  0\n",
       "month                    0\n",
       "day                      0\n",
       "country/region           0\n",
       "aircraft manufacturer    0\n",
       "aircraft                 0\n",
       "location                 0\n",
       "operator                 0\n",
       "ground                   0\n",
       "fatalities (air)         0\n",
       "aboard                   0\n",
       "dtype: int64"
      ]
     },
     "execution_count": 260,
     "metadata": {},
     "output_type": "execute_result"
    }
   ],
   "source": [
    "df.isna().sum() # This shows that there is NaN values anymore in the dataset"
   ]
  },
  {
   "cell_type": "code",
   "execution_count": 261,
   "id": "e7918198",
   "metadata": {},
   "outputs": [
    {
     "data": {
      "text/html": [
       "<div>\n",
       "<style scoped>\n",
       "    .dataframe tbody tr th:only-of-type {\n",
       "        vertical-align: middle;\n",
       "    }\n",
       "\n",
       "    .dataframe tbody tr th {\n",
       "        vertical-align: top;\n",
       "    }\n",
       "\n",
       "    .dataframe thead th {\n",
       "        text-align: right;\n",
       "    }\n",
       "</style>\n",
       "<table border=\"1\" class=\"dataframe\">\n",
       "  <thead>\n",
       "    <tr style=\"text-align: right;\">\n",
       "      <th></th>\n",
       "      <th>year</th>\n",
       "      <th>quarter</th>\n",
       "      <th>month</th>\n",
       "      <th>day</th>\n",
       "      <th>country/region</th>\n",
       "      <th>aircraft manufacturer</th>\n",
       "      <th>aircraft</th>\n",
       "      <th>location</th>\n",
       "      <th>operator</th>\n",
       "      <th>ground</th>\n",
       "      <th>fatalities (air)</th>\n",
       "      <th>aboard</th>\n",
       "    </tr>\n",
       "  </thead>\n",
       "  <tbody>\n",
       "    <tr>\n",
       "      <th>0</th>\n",
       "      <td>1970</td>\n",
       "      <td>Qtr 2</td>\n",
       "      <td>April</td>\n",
       "      <td>28</td>\n",
       "      <td>Other Location</td>\n",
       "      <td>de Havilland Canada</td>\n",
       "      <td>de Havilland Canada DHC 6 Twin Otter 100VH</td>\n",
       "      <td>Kainatu</td>\n",
       "      <td>Airlines Australia GuineaTrans New</td>\n",
       "      <td>0</td>\n",
       "      <td>8</td>\n",
       "      <td>11</td>\n",
       "    </tr>\n",
       "    <tr>\n",
       "      <th>1</th>\n",
       "      <td>1952</td>\n",
       "      <td>Qtr 2</td>\n",
       "      <td>April</td>\n",
       "      <td>30</td>\n",
       "      <td>Other Location</td>\n",
       "      <td>Douglas</td>\n",
       "      <td>Douglas DC 3VT</td>\n",
       "      <td>Delhi</td>\n",
       "      <td>Airways IndiaDeccan</td>\n",
       "      <td>0</td>\n",
       "      <td>9</td>\n",
       "      <td>9</td>\n",
       "    </tr>\n",
       "    <tr>\n",
       "      <th>2</th>\n",
       "      <td>1973</td>\n",
       "      <td>Qtr 2</td>\n",
       "      <td>April</td>\n",
       "      <td>10</td>\n",
       "      <td>Other Location</td>\n",
       "      <td>Vickers Vanguard</td>\n",
       "      <td>Vickers Vanguard 952G AXOP</td>\n",
       "      <td>Near Basel</td>\n",
       "      <td>(UK) Airlines International SwitzerlandInvicta</td>\n",
       "      <td>0</td>\n",
       "      <td>108</td>\n",
       "      <td>145</td>\n",
       "    </tr>\n",
       "    <tr>\n",
       "      <th>3</th>\n",
       "      <td>2000</td>\n",
       "      <td>Qtr 2</td>\n",
       "      <td>April</td>\n",
       "      <td>19</td>\n",
       "      <td>Other Location</td>\n",
       "      <td>Antonov</td>\n",
       "      <td>Antonov AN 8TL</td>\n",
       "      <td>Pepa  -</td>\n",
       "      <td>Airlines Centrafricain</td>\n",
       "      <td>0</td>\n",
       "      <td>24</td>\n",
       "      <td>24</td>\n",
       "    </tr>\n",
       "    <tr>\n",
       "      <th>4</th>\n",
       "      <td>1946</td>\n",
       "      <td>Qtr 2</td>\n",
       "      <td>April</td>\n",
       "      <td>30</td>\n",
       "      <td>Other Location</td>\n",
       "      <td>Douglas</td>\n",
       "      <td>Douglas C 47A FZ559</td>\n",
       "      <td>Pindi-Khut  -</td>\n",
       "      <td>Force Air Royal</td>\n",
       "      <td>0</td>\n",
       "      <td>12</td>\n",
       "      <td>12</td>\n",
       "    </tr>\n",
       "  </tbody>\n",
       "</table>\n",
       "</div>"
      ],
      "text/plain": [
       "   year quarter  month  day  country/region aircraft manufacturer  \\\n",
       "0  1970   Qtr 2  April   28  Other Location   de Havilland Canada   \n",
       "1  1952   Qtr 2  April   30  Other Location               Douglas   \n",
       "2  1973   Qtr 2  April   10  Other Location      Vickers Vanguard   \n",
       "3  2000   Qtr 2  April   19  Other Location               Antonov   \n",
       "4  1946   Qtr 2  April   30  Other Location               Douglas   \n",
       "\n",
       "                                     aircraft       location  \\\n",
       "0  de Havilland Canada DHC 6 Twin Otter 100VH        Kainatu   \n",
       "1                              Douglas DC 3VT          Delhi   \n",
       "2                  Vickers Vanguard 952G AXOP     Near Basel   \n",
       "3                              Antonov AN 8TL        Pepa  -   \n",
       "4                         Douglas C 47A FZ559  Pindi-Khut  -   \n",
       "\n",
       "                                         operator  ground  fatalities (air)  \\\n",
       "0              Airlines Australia GuineaTrans New       0                 8   \n",
       "1                             Airways IndiaDeccan       0                 9   \n",
       "2  (UK) Airlines International SwitzerlandInvicta       0               108   \n",
       "3                          Airlines Centrafricain       0                24   \n",
       "4                                 Force Air Royal       0                12   \n",
       "\n",
       "   aboard  \n",
       "0      11  \n",
       "1       9  \n",
       "2     145  \n",
       "3      24  \n",
       "4      12  "
      ]
     },
     "execution_count": 261,
     "metadata": {},
     "output_type": "execute_result"
    }
   ],
   "source": [
    "df.head()"
   ]
  },
  {
   "cell_type": "markdown",
   "id": "f2f93153-1d07-4c01-a0b0-c49ed40b06c9",
   "metadata": {},
   "source": [
    "# RESEARCH QUESTIONS"
   ]
  },
  {
   "cell_type": "markdown",
   "id": "0ce4f714",
   "metadata": {},
   "source": [
    "1. What is the total monthly aircrashes that occured from 1908 to 2024?\n",
    "2. Which quarter of the year has the highest number of aircraft crashes?\n",
    "3. What is the highest number of fatalities on the ground?\n",
    "4. What is the highest Number of fatalities on the aircraft?\n",
    "5. What is the highest number of people aboard the aircraft?\n",
    "6. Which 5 aircraft models have the highest number of ground fatalities?"
   ]
  },
  {
   "cell_type": "markdown",
   "id": "93b9adb7",
   "metadata": {},
   "source": [
    "# Findings"
   ]
  },
  {
   "cell_type": "markdown",
   "id": "d444a094-a2f9-4fee-9468-d752e0300684",
   "metadata": {},
   "source": [
    "### 1. What is the total monthly aircrashes that occured from 1908 to 2024?"
   ]
  },
  {
   "cell_type": "code",
   "execution_count": 262,
   "id": "fc999aab-f510-48d5-ac55-cbfe7ec1268c",
   "metadata": {},
   "outputs": [],
   "source": [
    "mothly_aircrashes = df.groupby('month')['fatalities (air)'].count()"
   ]
  },
  {
   "cell_type": "code",
   "execution_count": 263,
   "id": "38591d6e-4867-40f6-9a19-370fa7db7728",
   "metadata": {},
   "outputs": [
    {
     "data": {
      "text/plain": [
       "month\n",
       "April        350\n",
       "August       452\n",
       "December     497\n",
       "February     362\n",
       "January      467\n",
       "July         428\n",
       "June         367\n",
       "March        427\n",
       "May          361\n",
       "November     443\n",
       "October      428\n",
       "September    453\n",
       "Name: fatalities (air), dtype: int64"
      ]
     },
     "execution_count": 263,
     "metadata": {},
     "output_type": "execute_result"
    }
   ],
   "source": [
    "mothly_aircrashes"
   ]
  },
  {
   "cell_type": "code",
   "execution_count": 264,
   "id": "96aec5e4-0457-46e9-a8d6-ce7d03c17355",
   "metadata": {},
   "outputs": [],
   "source": [
    "Months = df['month']\n",
    "Aircrashes = df['fatalities (air)']"
   ]
  },
  {
   "cell_type": "code",
   "execution_count": 276,
   "id": "a0358b27-853d-43fa-a912-3454010c9574",
   "metadata": {},
   "outputs": [
    {
     "data": {
      "image/png": "[encoded data removed]",
      "text/plain": [
       "<Figure size 1000x600 with 1 Axes>"
      ]
     },
     "metadata": {},
     "output_type": "display_data"
    }
   ],
   "source": [
    "# generates a bar chart visualization\n",
    "plt.figure(figsize=(10,6))\n",
    "plt.bar(Months,Aircrashes, color = 'blue')\n",
    "plt.title('Monthly Air Crashes from 1908 to 2024')\n",
    "plt.xlabel('Months')\n",
    "plt.ylabel('Aircrashes')\n",
    "plt.xticks(rotation=90)\n",
    "plt.show()"
   ]
  },
  {
   "cell_type": "markdown",
   "id": "d3bff12c-c0af-4769-b716-329c7083a2dd",
   "metadata": {},
   "source": [
    "### 2. Which quarter of the year has the highest number of aircraft crashes?"
   ]
  },
  {
   "cell_type": "code",
   "execution_count": 266,
   "id": "3ac53361-dec6-4789-96bc-6b5ac8c8930e",
   "metadata": {},
   "outputs": [
    {
     "data": {
      "text/plain": [
       "quarter\n",
       "Qtr 1    1256\n",
       "Qtr 2    1078\n",
       "Qtr 3    1333\n",
       "Qtr 4    1368\n",
       "Name: fatalities (air), dtype: int64"
      ]
     },
     "execution_count": 266,
     "metadata": {},
     "output_type": "execute_result"
    }
   ],
   "source": [
    "aircrashes_per_quarter = df.groupby('quarter')['fatalities (air)'].count()\n",
    "aircrashes_per_quarter"
   ]
  },
  {
   "cell_type": "code",
   "execution_count": 267,
   "id": "75496141-7187-43ec-8143-908f9999aa9f",
   "metadata": {},
   "outputs": [
    {
     "name": "stdout",
     "output_type": "stream",
     "text": [
      "qtr_with_highest_aircrashes: Qtr 4, with 1368 aircraft crashes\n"
     ]
    }
   ],
   "source": [
    "qtr_name = aircrashes_per_quarter.idxmax() \n",
    "qtr_count = aircrashes_per_quarter.max()\n",
    "print(f\"qtr_with_highest_aircrashes: {qtr_name}, with {qtr_count} aircraft crashes\")"
   ]
  },
  {
   "cell_type": "code",
   "execution_count": 277,
   "id": "bb0d08fe",
   "metadata": {},
   "outputs": [
    {
     "data": {
      "image/png": "[encoded data removed]",
      "text/plain": [
       "<Figure size 1000x600 with 1 Axes>"
      ]
     },
     "metadata": {},
     "output_type": "display_data"
    }
   ],
   "source": [
    "# generates a horizontal bar chart visualization\n",
    "plt.figure(figsize=(10, 6))\n",
    "aircrashes_per_quarter.plot.bar(x='quarter', y = 'fatalities (air)', color='blue')\n",
    "plt.title('Trend in Quarterly Aircraft Crashes')\n",
    "plt.xlabel('Quarter')\n",
    "plt.ylabel('Number of Crashes')\n",
    "plt.show()"
   ]
  },
  {
   "cell_type": "markdown",
   "id": "aa029b28-ccc9-42eb-b790-fb1a4a68dad6",
   "metadata": {},
   "source": [
    "### 3. What is the highest number of fatalities on the ground?"
   ]
  },
  {
   "cell_type": "code",
   "execution_count": 269,
   "id": "b12cecc5-0f8c-4083-9d3d-3ea6302fc628",
   "metadata": {},
   "outputs": [
    {
     "data": {
      "text/plain": [
       "2750"
      ]
     },
     "execution_count": 269,
     "metadata": {},
     "output_type": "execute_result"
    }
   ],
   "source": [
    "highest_ground_fatalities = df['ground'].max()\n",
    "highest_ground_fatalities"
   ]
  },
  {
   "cell_type": "markdown",
   "id": "68fba70b-c6cb-4b7b-8112-14abd4abb7b1",
   "metadata": {},
   "source": [
    "### 4. What is the highest Number of fatalities on the aircraft?"
   ]
  },
  {
   "cell_type": "code",
   "execution_count": 270,
   "id": "32e5943e-b926-4a9e-9b67-c15928855679",
   "metadata": {},
   "outputs": [
    {
     "data": {
      "text/plain": [
       "583"
      ]
     },
     "execution_count": 270,
     "metadata": {},
     "output_type": "execute_result"
    }
   ],
   "source": [
    "highest_air_fatalities = df['fatalities (air)'].max()\n",
    "highest_air_fatalities"
   ]
  },
  {
   "cell_type": "markdown",
   "id": "f2db455d-faf5-4e42-8971-02c26a531818",
   "metadata": {},
   "source": [
    "### 5. What is the highest number of people aboard the aircraft?"
   ]
  },
  {
   "cell_type": "code",
   "execution_count": 271,
   "id": "fc42e18b-39a6-4cf3-8ffc-40ea19f1b9f9",
   "metadata": {},
   "outputs": [
    {
     "data": {
      "text/plain": [
       "644"
      ]
     },
     "execution_count": 271,
     "metadata": {},
     "output_type": "execute_result"
    }
   ],
   "source": [
    "highest_no_aboard = df['aboard'].max()\n",
    "highest_no_aboard"
   ]
  },
  {
   "cell_type": "markdown",
   "id": "f3231347",
   "metadata": {},
   "source": [
    "### 6. Which 5 aircraft models have the highest number of ground fatalities?"
   ]
  },
  {
   "cell_type": "code",
   "execution_count": 272,
   "id": "f03afbcd",
   "metadata": {},
   "outputs": [],
   "source": [
    "aircraft_model = df.groupby('aircraft')['ground'].count().reset_index()"
   ]
  },
  {
   "cell_type": "code",
   "execution_count": 273,
   "id": "f2735e04",
   "metadata": {},
   "outputs": [],
   "source": [
    "aircraft_model_sorted = aircraft_model.sort_values(by = 'ground', ascending = False).head(5)"
   ]
  },
  {
   "cell_type": "code",
   "execution_count": 274,
   "id": "ab6ad673",
   "metadata": {},
   "outputs": [
    {
     "data": {
      "text/html": [
       "<div>\n",
       "<style scoped>\n",
       "    .dataframe tbody tr th:only-of-type {\n",
       "        vertical-align: middle;\n",
       "    }\n",
       "\n",
       "    .dataframe tbody tr th {\n",
       "        vertical-align: top;\n",
       "    }\n",
       "\n",
       "    .dataframe thead th {\n",
       "        text-align: right;\n",
       "    }\n",
       "</style>\n",
       "<table border=\"1\" class=\"dataframe\">\n",
       "  <thead>\n",
       "    <tr style=\"text-align: right;\">\n",
       "      <th></th>\n",
       "      <th>aircraft</th>\n",
       "      <th>ground</th>\n",
       "    </tr>\n",
       "  </thead>\n",
       "  <tbody>\n",
       "    <tr>\n",
       "      <th>652</th>\n",
       "      <td>Boeing B 737</td>\n",
       "      <td>73</td>\n",
       "    </tr>\n",
       "    <tr>\n",
       "      <th>650</th>\n",
       "      <td>Boeing B 727</td>\n",
       "      <td>57</td>\n",
       "    </tr>\n",
       "    <tr>\n",
       "      <th>646</th>\n",
       "      <td>Boeing B 707</td>\n",
       "      <td>51</td>\n",
       "    </tr>\n",
       "    <tr>\n",
       "      <th>2733</th>\n",
       "      <td>McDonnell Douglas DC 9</td>\n",
       "      <td>42</td>\n",
       "    </tr>\n",
       "    <tr>\n",
       "      <th>1247</th>\n",
       "      <td>Douglas C 47A</td>\n",
       "      <td>40</td>\n",
       "    </tr>\n",
       "  </tbody>\n",
       "</table>\n",
       "</div>"
      ],
      "text/plain": [
       "                    aircraft  ground\n",
       "652             Boeing B 737      73\n",
       "650             Boeing B 727      57\n",
       "646             Boeing B 707      51\n",
       "2733  McDonnell Douglas DC 9      42\n",
       "1247           Douglas C 47A      40"
      ]
     },
     "execution_count": 274,
     "metadata": {},
     "output_type": "execute_result"
    }
   ],
   "source": [
    "aircraft_model_sorted"
   ]
  },
  {
   "cell_type": "code",
   "execution_count": 275,
   "id": "04da370a",
   "metadata": {},
   "outputs": [
    {
     "data": {
      "text/plain": [
       "<Figure size 1000x600 with 0 Axes>"
      ]
     },
     "metadata": {},
     "output_type": "display_data"
    },
    {
     "data": {
      "image/png": "[encoded data removed]",
      "text/plain": [
       "<Figure size 640x480 with 1 Axes>"
      ]
     },
     "metadata": {},
     "output_type": "display_data"
    }
   ],
   "source": [
    "plt.figure(figsize=(10,6))\n",
    "aircraft_model_sorted.plot.bar(x = 'aircraft', y = 'ground', color = 'blue')\n",
    "plt.title('Five(5) Aircraft Models with Highest Ground Fatalities')\n",
    "plt.xlabel('Aircraft Model')\n",
    "plt.ylabel('Number of Ground Fatalities')\n",
    "plt.xticks(rotation=90)\n",
    "plt.show()"
   ]
  },
  {
   "cell_type": "markdown",
   "id": "9d6eec9d",
   "metadata": {},
   "source": [
    "# Recommendation"
   ]
  },
  {
   "cell_type": "markdown",
   "id": "996f0601",
   "metadata": {},
   "source": [
    "Recommendation:\n",
    "\n",
    "According to the trends and patterns identified in the analysis above, aviation safety has significantly improved over the years perhaps due to technology advancement, regulation, and safety roadmap. Although, some span of the year certain aircraft manufacturers show lofty incidences of crashes and fatalities. Due to this action it is recommended that safety protocols are enforced during quarters with prominent fatality, and manufacturers with track records of poor safety protocols should be strictly watched and reconsidered. In addition, very high fatality incidents are often linked to aircraft with larger passenger capacities, so accurate safety standards should be pressed on these models to lessen future risks."
   ]
  }
 ],
 "metadata": {
  "kernelspec": {
   "display_name": "Python 3 (ipykernel)",
   "language": "python",
   "name": "python3"
  },
  "language_info": {
   "codemirror_mode": {
    "name": "ipython",
    "version": 3
   },
   "file_extension": ".py",
   "mimetype": "text/x-python",
   "name": "python",
   "nbconvert_exporter": "python",
   "pygments_lexer": "ipython3",
   "version": "3.12.4"
  }
 },
 "nbformat": 4,
 "nbformat_minor": 5
}
